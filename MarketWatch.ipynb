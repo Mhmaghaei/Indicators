{
 "cells": [
  {
   "cell_type": "code",
   "execution_count": 1,
   "id": "8955bede",
   "metadata": {},
   "outputs": [],
   "source": [
    "import Strategies as st\n",
    "import finpy_tse as fpy\n",
    "import pandas as pd"
   ]
  },
  {
   "cell_type": "code",
   "execution_count": 2,
   "id": "b1923fd1",
   "metadata": {},
   "outputs": [
    {
     "name": "stdout",
     "output_type": "stream",
     "text": [
      "Save path does not exist, you can handle saving this data by returned dataframe as Excel using \".to_excel()\", if you will!\n"
     ]
    }
   ],
   "source": [
    "df = pd.DataFrame()\n",
    "df, df_order_book = fpy.Get_MarketWatch()"
   ]
  },
  {
   "cell_type": "code",
   "execution_count": 6,
   "id": "9bd8aa79",
   "metadata": {},
   "outputs": [],
   "source": [
    "def hammer(dft = pd.DataFrame()):\n",
    "\n",
    "    \n",
    "    \n",
    "    #P/E\n",
    "    #dft = dft[((dft['Final'])/(abs(dft['EPS'])) <= 5)]\n",
    "    \n",
    "    \n",
    "#     true == function()\n",
    "# {\n",
    "# if((pl) > (pf)) { var tl = (tmax)-(tmin);var pl = (pmax) - (pmin); var cl = (pl) - (pf); if (cl/tl >= 0.7 && pl/tl >= 0.6)\n",
    "# return true;            \n",
    "# }\n",
    "# }\n",
    "# ()\n",
    "    tl = (dft['Day_UL'] - dft['Day_LL'])\n",
    "    pl = (dft['High'] - dft['Low'])\n",
    "    cl = (pl - dft['Open'])\n",
    "    dft = dft[(dft['Close'] > dft['Open']) & (((cl/tl) >= 0.7) | ((pl/tl) >= 0.6))]\n",
    "    \n",
    "\n",
    "    py = ((dft['Close']*100)/ (dft['Final(%)']+100))\n",
    "    \n",
    "    pl = dft['Close']\n",
    "    pc = dft['Final']\n",
    "    pmax = dft['High']\n",
    "    pmin = dft['Low']\n",
    "    pf = dft['Open']\n",
    "#     dft = dft[((pl > pc) & (pmax > pmin) & \n",
    "#                (pl > py) & (pmax > py) & \n",
    "#                (pf >= py) & (pl > pmin) & \n",
    "#                (pl > pf) & ((pl/pf) < 1.015) & \n",
    "#                ((pl/pf) > 1.005) & (pmax == pf) & ((dft['No']) > 1))]\n",
    "    \n",
    "    # (pc) >= (py) && (bvol) < 200000 && (plp) >=1.5\n",
    "\n",
    "    dft = dft.loc[(pc>= py) &(dft['Base-Vol'] < 200000 )& (dft['Final(%)']>=1.5) & (pl > pc) & (pmax > pmin) & (pl > py) & (pmax > py)]\n",
    "    \n",
    "    \n",
    "    return dft"
   ]
  },
  {
   "cell_type": "code",
   "execution_count": 9,
   "id": "e243fe72",
   "metadata": {
    "scrolled": false
   },
   "outputs": [
    {
     "name": "stdout",
     "output_type": "stream",
     "text": [
      "وحکمت\n",
      "کرمان\n",
      "بمولد\n",
      "ومعلم\n",
      "ناما\n",
      "موج\n",
      "غدانه\n",
      "ساینا\n",
      "بنو\n",
      "وسرمدح\n",
      "فرود\n",
      "شپترو\n"
     ]
    }
   ],
   "source": [
    "df_final = hammer(df)\n",
    "for i in df_final.index.values:\n",
    "    print(i)"
   ]
  }
 ],
 "metadata": {
  "kernelspec": {
   "display_name": "Python 3 (ipykernel)",
   "language": "python",
   "name": "python3"
  },
  "language_info": {
   "codemirror_mode": {
    "name": "ipython",
    "version": 3
   },
   "file_extension": ".py",
   "mimetype": "text/x-python",
   "name": "python",
   "nbconvert_exporter": "python",
   "pygments_lexer": "ipython3",
   "version": "3.9.6"
  }
 },
 "nbformat": 4,
 "nbformat_minor": 5
}
